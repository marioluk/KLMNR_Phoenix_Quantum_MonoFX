{
 "cells": [
  {
   "cell_type": "markdown",
   "id": "557e5283",
   "metadata": {},
   "source": [
    "i nuovi file json di configurazione sono incompleti e ci sono diversi parametri nuovi che non so se sono utilizzati nello script"
   ]
  },
  {
   "cell_type": "markdown",
   "id": "9f83cf7c",
   "metadata": {},
   "source": [
    "stiamo lavorando con timeframe m1, troppo veloce e troppo vicini sl e tp al prezzo d'ingresso"
   ]
  },
  {
   "cell_type": "markdown",
   "id": "02f760c9",
   "metadata": {},
   "source": [
    "prende sempre lot size max a 0.1, parametri di rischio troppo alti nel vecchio file config? controllare sui nuovi file config json"
   ]
  },
  {
   "cell_type": "markdown",
   "id": "3a342cd4",
   "metadata": {},
   "source": [
    "i nuovi file bachtest vengono salvati nella root principale e non nella cartella configs"
   ]
  },
  {
   "cell_type": "markdown",
   "id": "87688c71",
   "metadata": {},
   "source": [
    "come distribuisco il rischio sui vari simboli?"
   ]
  },
  {
   "cell_type": "markdown",
   "id": "976061e3",
   "metadata": {},
   "source": [
    "cosa succedeval backtest se modifico lo script dell'algoritmo?"
   ]
  },
  {
   "cell_type": "markdown",
   "id": "d7f45f54",
   "metadata": {},
   "source": [
    "Entropia Spin Volatilità Confidenza come vengono usate nell'algoritmo?"
   ]
  },
  {
   "cell_type": "markdown",
   "id": "ff019851",
   "metadata": {},
   "source": [
    "`is_in_cooldown_period(symbol)`** - Gestione Cooldown\n",
    "- Cooldown normale posizioni: 1800 secondi\n",
    "- Cooldown segnali: 900 secondi  \n",
    "- Prevenzione over-trading\n",
    "\n",
    "Funziona?"
   ]
  },
  {
   "cell_type": "markdown",
   "id": "c7d2f162",
   "metadata": {},
   "source": [
    "BUSINESS PLAN "
   ]
  },
  {
   "cell_type": "markdown",
   "id": "4a608af9",
   "metadata": {},
   "source": [
    "WHITE PAPER THE5ERS"
   ]
  },
  {
   "cell_type": "markdown",
   "id": "18f98a01",
   "metadata": {},
   "source": [
    "Implementazione delle news più importanti"
   ]
  },
  {
   "cell_type": "markdown",
   "id": "5a112efa",
   "metadata": {},
   "source": [
    "condizioni di uscita: REVERSE???"
   ]
  },
  {
   "cell_type": "markdown",
   "id": "cd73ea98",
   "metadata": {},
   "source": [
    "logger.info(f\"🔍 TRADE STATUS {symbol}: can_trade={can_trade}, trading_hours={trading_hours}, \"\n",
    "                        f\"has_position={has_position}, daily_trades={daily_count}/{daily_limit}, \"\n",
    "                        f\"buffer={buffer_size}/{min_samples}\")\n",
    "\n",
    "# non funziona stampa solo il primo simbolo EURUSD, non c'è un loop lo commento"
   ]
  }
 ],
 "metadata": {
  "kernelspec": {
   "display_name": "Python 3",
   "language": "python",
   "name": "python3"
  },
  "language_info": {
   "codemirror_mode": {
    "name": "ipython",
    "version": 3
   },
   "file_extension": ".py",
   "mimetype": "text/x-python",
   "name": "python",
   "nbconvert_exporter": "python",
   "pygments_lexer": "ipython3",
   "version": "3.13.2"
  }
 },
 "nbformat": 4,
 "nbformat_minor": 5
}
