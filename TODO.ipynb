{
 "cells": [
  {
   "cell_type": "markdown",
   "id": "557e5283",
   "metadata": {},
   "source": [
    "i nuovi file json di configurazione sono incompleti e ci sono diversi parametri nuovi che non so se sono utilizzati nello script"
   ]
  },
  {
   "cell_type": "markdown",
   "id": "9f83cf7c",
   "metadata": {},
   "source": [
    "stiamo lavorando con timeframe m1, troppo veloce e troppo vicini sl e tp al prezzo d'ingresso"
   ]
  },
  {
   "cell_type": "markdown",
   "id": "02f760c9",
   "metadata": {},
   "source": [
    "prende sempre lot size max a 0.1, parametri di rischio troppo alti nel vecchio file config? controllare sui nuovi file config json"
   ]
  },
  {
   "cell_type": "markdown",
   "id": "3a342cd4",
   "metadata": {},
   "source": [
    "i nuovi file bachtest vengono salvati nella root principale e non nella cartella configs"
   ]
  },
  {
   "cell_type": "markdown",
   "id": "cb7d28b4",
   "metadata": {},
   "source": [
    "come si comporta il ts? ogni quanto si sposta?"
   ]
  },
  {
   "cell_type": "markdown",
   "id": "87688c71",
   "metadata": {},
   "source": [
    "come distribuisco il rischio sui vari simboli?"
   ]
  },
  {
   "cell_type": "markdown",
   "id": "e984a698",
   "metadata": {},
   "source": [
    "cooldown funzionano?"
   ]
  },
  {
   "cell_type": "markdown",
   "id": "976061e3",
   "metadata": {},
   "source": [
    "cosa succedeval backtest se modifico lo script dell'algoritmo?"
   ]
  },
  {
   "cell_type": "markdown",
   "id": "ad4a5575",
   "metadata": {},
   "source": [
    "README.md in The5ers: mi concentrerei sul file [text](PRO-THE5ERS-QM-PHOENIX-GITCOP.py) analizzando dettagliatamente gli aspetti tecnici delle classi e dei metodi, la logica di trading con un'analisi degli parametri utilizzati per la gestione del trading i punti di ingresso ed uscita a mercato ad esempio. Tralasherei il backtest che ha un suo file readme, ed il config file che potrebbe cambiare sia nei parametri che nell'ottimizzazione. Se poi riesci a fare un'appendice con tutta la matematica utilizzata nello script non sarebbe male.Non so se sono stato chiaro chiedimi pure maggiori dettagli o delucidazioni."
   ]
  },
  {
   "cell_type": "markdown",
   "id": "d7f45f54",
   "metadata": {},
   "source": [
    "Entropia Spin Volatilità Confidenza come vengono usate nell'algoritmo?"
   ]
  },
  {
   "cell_type": "markdown",
   "id": "ff019851",
   "metadata": {},
   "source": [
    "`is_in_cooldown_period(symbol)`** - Gestione Cooldown\n",
    "- Cooldown normale posizioni: 1800 secondi\n",
    "- Cooldown segnali: 900 secondi  \n",
    "- Prevenzione over-trading\n",
    "\n",
    "Funziona?"
   ]
  },
  {
   "cell_type": "markdown",
   "id": "c7d2f162",
   "metadata": {},
   "source": [
    "BUSINESS PLAN "
   ]
  },
  {
   "cell_type": "markdown",
   "id": "4a608af9",
   "metadata": {},
   "source": [
    "WHITE PAPER THE5ERS"
   ]
  },
  {
   "cell_type": "markdown",
   "id": "18f98a01",
   "metadata": {},
   "source": [
    "Implementazione delle news più importanti"
   ]
  },
  {
   "cell_type": "markdown",
   "id": "5a112efa",
   "metadata": {},
   "source": [
    "condizioni di uscita: REVERSE???"
   ]
  },
  {
   "cell_type": "markdown",
   "id": "5b234b81",
   "metadata": {},
   "source": [
    "non ho logger del trailing stop forse è in debug?"
   ]
  }
 ],
 "metadata": {
  "language_info": {
   "name": "python"
  }
 },
 "nbformat": 4,
 "nbformat_minor": 5
}
