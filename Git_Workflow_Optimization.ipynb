{
 "cells": [
  {
   "cell_type": "markdown",
   "id": "018e3f5e",
   "metadata": {},
   "source": [
    "# Git Workflow Optimization - Eliminazione Branch DEV\n",
    "\n",
    "## Obiettivo\n",
    "Semplificare il workflow Git eliminando il branch `dev` e lavorando direttamente sul `main` per:\n",
    "- Ridurre la complessità del workflow\n",
    "- Eliminare la confusione tra branch\n",
    "- Semplificare sincronizzazione tra dispositivi (PC, laptop, server)\n",
    "- Velocizzare il deployment in produzione\n",
    "\n",
    "## Situazione Attuale\n",
    "- **Repository**: `The5ers` (main branch)\n",
    "- **Folder locale**: `The5ers-Dev` (branch dev)\n",
    "- **Confusione**: Due branch da sincronizzare\n",
    "- **Complessità**: Merge, pull request, switch branch\n",
    "\n",
    "## Situazione Target\n",
    "- **Repository**: `The5ers` (solo main branch)\n",
    "- **Folder locale**: `The5ers` (solo main branch)\n",
    "- **Semplicità**: Un solo branch da gestire\n",
    "- **Efficienza**: Push/pull diretto su main"
   ]
  },
  {
   "cell_type": "markdown",
   "id": "0b140369",
   "metadata": {},
   "source": [
    "## Piano di Migrazione\n",
    "\n",
    "### Step 1: Backup e Verifica Stato Attuale"
   ]
  },
  {
   "cell_type": "code",
   "execution_count": 1,
   "id": "f9f8eda1",
   "metadata": {},
   "outputs": [
    {
     "name": "stdout",
     "output_type": "stream",
     "text": [
      "=== BRANCH DISPONIBILI ===\n",
      "dev\n",
      "* main\n",
      "  remotes/origin/HEAD -> origin/main\n",
      "  remotes/origin/dev\n",
      "  remotes/origin/main\n",
      "\n",
      "\n",
      "=== BRANCH CORRENTE ===\n",
      "Branch attuale: main\n",
      "\n",
      "=== STATUS MODIFICHE ===\n",
      "Modifiche non committate:\n",
      "M PRO-THE5ERS-QM-PHOENIX-GITCOP.py\n",
      "?? Git_Workflow_Optimization.ipynb\n",
      "\n",
      "=== REMOTE CONFIGURATI ===\n",
      "origin\thttps://github.com/marioluk/The5ers.git (fetch)\n",
      "origin\thttps://github.com/marioluk/The5ers.git (push)\n",
      "\n",
      "=== STATUS MODIFICHE ===\n",
      "Modifiche non committate:\n",
      "M PRO-THE5ERS-QM-PHOENIX-GITCOP.py\n",
      "?? Git_Workflow_Optimization.ipynb\n",
      "\n",
      "=== REMOTE CONFIGURATI ===\n",
      "origin\thttps://github.com/marioluk/The5ers.git (fetch)\n",
      "origin\thttps://github.com/marioluk/The5ers.git (push)\n"
     ]
    }
   ],
   "source": [
    "# Verifica stato attuale del repository\n",
    "import subprocess\n",
    "import os\n",
    "\n",
    "def run_git_command(cmd, cwd=None):\n",
    "    \"\"\"Esegue un comando Git e restituisce l'output\"\"\"\n",
    "    try:\n",
    "        result = subprocess.run(cmd, shell=True, capture_output=True, text=True, cwd=cwd)\n",
    "        return result.stdout.strip(), result.stderr.strip()\n",
    "    except Exception as e:\n",
    "        return \"\", str(e)\n",
    "\n",
    "# Cambia nella directory del progetto\n",
    "project_dir = r\"c:\\GitRepos\\The5ers-Dev\"\n",
    "os.chdir(project_dir)\n",
    "\n",
    "# Verifica branch attuale\n",
    "stdout, stderr = run_git_command(\"git branch -a\")\n",
    "print(\"=== BRANCH DISPONIBILI ===\")\n",
    "print(stdout)\n",
    "print(stderr if stderr else \"\")\n",
    "\n",
    "# Verifica branch corrente\n",
    "stdout, stderr = run_git_command(\"git branch --show-current\")\n",
    "print(f\"\\n=== BRANCH CORRENTE ===\")\n",
    "print(f\"Branch attuale: {stdout}\")\n",
    "\n",
    "# Verifica status\n",
    "stdout, stderr = run_git_command(\"git status --porcelain\")\n",
    "print(f\"\\n=== STATUS MODIFICHE ===\")\n",
    "if stdout:\n",
    "    print(\"Modifiche non committate:\")\n",
    "    print(stdout)\n",
    "else:\n",
    "    print(\"Working directory pulita\")\n",
    "\n",
    "# Verifica remote\n",
    "stdout, stderr = run_git_command(\"git remote -v\")\n",
    "print(f\"\\n=== REMOTE CONFIGURATI ===\")\n",
    "print(stdout)"
   ]
  },
  {
   "cell_type": "markdown",
   "id": "d979f55b",
   "metadata": {},
   "source": [
    "### Step 2: Merge del branch DEV in MAIN\n",
    "\n",
    "Prima di eliminare il branch dev, assicuriamoci che tutte le modifiche siano sincronizzate con main."
   ]
  },
  {
   "cell_type": "code",
   "execution_count": 2,
   "id": "01af870e",
   "metadata": {},
   "outputs": [
    {
     "name": "stdout",
     "output_type": "stream",
     "text": [
      "=== COMANDI DA ESEGUIRE ===\n",
      "1. git add .\n",
      "2. git commit -m 'Commit finale prima merge dev->main'\n",
      "3. git push origin dev\n",
      "4. git checkout main\n",
      "5. git pull origin main\n",
      "6. git merge dev\n",
      "7. git push origin main\n"
     ]
    }
   ],
   "source": [
    "# ATTENZIONE: Esegui questi comandi solo se sei sicuro!\n",
    "# Commenta/decommenta le righe che vuoi eseguire\n",
    "\n",
    "def sync_dev_to_main():\n",
    "    \"\"\"Sincronizza il branch dev con main\"\"\"\n",
    "    commands = [\n",
    "        \"git add .\",\n",
    "        \"git commit -m 'Commit finale prima merge dev->main'\",\n",
    "        \"git push origin dev\",\n",
    "        \"git checkout main\",\n",
    "        \"git pull origin main\",\n",
    "        \"git merge dev\",\n",
    "        \"git push origin main\"\n",
    "    ]\n",
    "    \n",
    "    print(\"=== COMANDI DA ESEGUIRE ===\")\n",
    "    for i, cmd in enumerate(commands, 1):\n",
    "        print(f\"{i}. {cmd}\")\n",
    "    \n",
    "    return commands\n",
    "\n",
    "# Mostra i comandi senza eseguirli\n",
    "commands = sync_dev_to_main()\n",
    "\n",
    "# Per eseguire davvero, decommentare le righe sotto:\n",
    "# for cmd in commands:\n",
    "#     print(f\"Eseguendo: {cmd}\")\n",
    "#     stdout, stderr = run_git_command(cmd)\n",
    "#     print(f\"Output: {stdout}\")\n",
    "#     if stderr:\n",
    "#         print(f\"Errore: {stderr}\")\n",
    "#     print(\"-\" * 50)"
   ]
  },
  {
   "cell_type": "markdown",
   "id": "6fc656d7",
   "metadata": {},
   "source": [
    "### Step 3: Eliminazione Branch DEV\n",
    "\n",
    "Dopo aver sincronizzato tutto in main, eliminiamo il branch dev sia locale che remoto."
   ]
  },
  {
   "cell_type": "code",
   "execution_count": 3,
   "id": "8b85803b",
   "metadata": {},
   "outputs": [
    {
     "name": "stdout",
     "output_type": "stream",
     "text": [
      "=== COMANDI PER ELIMINARE BRANCH DEV ===\n",
      "1. git branch -d dev\n",
      "2. git push origin --delete dev\n",
      "3. git branch -a\n"
     ]
    }
   ],
   "source": [
    "# Comandi per eliminare il branch dev\n",
    "def delete_dev_branch():\n",
    "    \"\"\"Elimina il branch dev locale e remoto\"\"\"\n",
    "    commands = [\n",
    "        \"git branch -d dev\",  # Elimina branch locale\n",
    "        \"git push origin --delete dev\",  # Elimina branch remoto\n",
    "        \"git branch -a\"  # Verifica che sia eliminato\n",
    "    ]\n",
    "    \n",
    "    print(\"=== COMANDI PER ELIMINARE BRANCH DEV ===\")\n",
    "    for i, cmd in enumerate(commands, 1):\n",
    "        print(f\"{i}. {cmd}\")\n",
    "    \n",
    "    return commands\n",
    "\n",
    "# Mostra i comandi\n",
    "commands = delete_dev_branch()\n",
    "\n",
    "# Per eseguire davvero, decommentare le righe sotto:\n",
    "# print(\"\\\\n=== ESECUZIONE COMANDI ===\")\n",
    "# for cmd in commands:\n",
    "#     print(f\"Eseguendo: {cmd}\")\n",
    "#     stdout, stderr = run_git_command(cmd)\n",
    "#     print(f\"Output: {stdout}\")\n",
    "#     if stderr:\n",
    "#         print(f\"Errore: {stderr}\")\n",
    "#     print(\"-\" * 50)"
   ]
  },
  {
   "cell_type": "markdown",
   "id": "8a1ba0dc",
   "metadata": {},
   "source": [
    "### Step 4: Riorganizzazione Directory Locale\n",
    "\n",
    "Rinominiamo la directory da `The5ers-Dev` a `The5ers` per coerenza con il repository."
   ]
  },
  {
   "cell_type": "code",
   "execution_count": null,
   "id": "e84645b1",
   "metadata": {},
   "outputs": [
    {
     "name": "stdout",
     "output_type": "stream",
     "text": [
      "=== RINOMINA DIRECTORY ===\n",
      "Da: c:\\GitRepos\\The5ers-Dev\n",
      "A:  c:\\GitRepos\\The5ers\n",
      "\\nPer eseguire il rename, decommenta le righe sotto:\n",
      "# shutil.move(old_path, new_path)\n",
      "# print(f'✅ Directory rinominata con successo!')\n"
     ]
    },
    {
     "data": {
      "text/plain": [
       "True"
      ]
     },
     "execution_count": 5,
     "metadata": {},
     "output_type": "execute_result"
    }
   ],
   "source": [
    "# Rinomina directory locale\n",
    "import shutil\n",
    "\n",
    "def rename_directory():\n",
    "    \"\"\"Rinomina la directory da The5ers-Dev a The5ers\"\"\"\n",
    "    old_path = r\"c:\\GitRepos\\The5ers-Dev\"\n",
    "    new_path = r\"c:\\GitRepos\\The5ers\"\n",
    "    \n",
    "    print(f\"=== RINOMINA DIRECTORY ===\")\n",
    "    print(f\"Da: {old_path}\")\n",
    "    print(f\"A:  {new_path}\")\n",
    "    \n",
    "    # Verifica che la directory di destinazione non esista già\n",
    "    if os.path.exists(new_path):\n",
    "        print(f\"⚠️  ATTENZIONE: La directory {new_path} esiste già!\")\n",
    "        return False\n",
    "    \n",
    "    print(\"\\\\nPer eseguire il rename, decommenta le righe sotto:\")\n",
    "    print(\"# shutil.move(old_path, new_path)\")\n",
    "    print(\"# print(f'✅ Directory rinominata con successo!')\")\n",
    "    \n",
    "    return True\n",
    "\n",
    "# Esegui la verifica\n",
    "rename_directory()\n",
    "\n",
    "# Per eseguire davvero, decommentare le righe sotto:\n",
    "# old_path = r\"c:\\GitRepos\\The5ers-Dev\"\n",
    "# new_path = r\"c:\\GitRepos\\The5ers\"\n",
    "# shutil.move(old_path, new_path)\n",
    "print(f'✅ Directory rinominata da {old_path} a {new_path}')"
   ]
  },
  {
   "cell_type": "markdown",
   "id": "964cf9d2",
   "metadata": {},
   "source": [
    "## Nuovo Workflow Semplificato\n",
    "\n",
    "### Workflow Quotidiano (POST-migrazione)\n",
    "\n",
    "```bash\n",
    "# 1. Inizio lavoro - Sincronizza con GitHub\n",
    "git pull origin main\n",
    "\n",
    "# 2. Lavori sui file...\n",
    "# (modifiche al codice)\n",
    "\n",
    "# 3. Commit delle modifiche\n",
    "git add .\n",
    "git commit -m \"Descrizione modifiche\"\n",
    "\n",
    "# 4. Push su GitHub\n",
    "git push origin main\n",
    "```\n",
    "\n",
    "### Vantaggi del Nuovo Workflow\n",
    "\n",
    "✅ **Semplicità**: Un solo branch da gestire  \n",
    "✅ **Velocità**: Push/pull diretto senza merge  \n",
    "✅ **Chiarezza**: Nessuna confusione tra branch  \n",
    "✅ **Efficienza**: Deployment immediato in produzione  \n",
    "✅ **Sincronizzazione**: Facile sync tra PC, laptop, server  \n",
    "\n",
    "### Dispositivi Supportati\n",
    "\n",
    "- **PC Development**: `c:\\GitRepos\\The5ers` (main)\n",
    "- **Laptop**: `~/projects/The5ers` (main)  \n",
    "- **Server Produzione**: `/opt/The5ers` (main)\n",
    "\n",
    "Tutti sincronizzati sullo stesso branch `main`!"
   ]
  },
  {
   "cell_type": "markdown",
   "id": "954e0177",
   "metadata": {},
   "source": [
    "## Checklist Migrazione\n",
    "\n",
    "### Prima di Iniziare\n",
    "- [ ] Backup completo del progetto\n",
    "- [ ] Verifica che non ci siano modifiche non committate\n",
    "- [ ] Conferma che tutti i dispositivi siano sincronizzati\n",
    "\n",
    "### Esecuzione\n",
    "- [ ] **Step 1**: Verifica stato attuale (cella 2)\n",
    "- [ ] **Step 2**: Merge dev in main (cella 4)  \n",
    "- [ ] **Step 3**: Elimina branch dev (cella 6)\n",
    "- [ ] **Step 4**: Rinomina directory locale (cella 8)\n",
    "\n",
    "### Verifica Post-Migrazione\n",
    "- [ ] Repository ha solo branch `main`\n",
    "- [ ] Directory locale rinominata in `The5ers`\n",
    "- [ ] Tutti i file sono sincronizzati\n",
    "- [ ] Test del nuovo workflow\n",
    "\n",
    "### Prossimi Passi\n",
    "- [ ] Aggiorna configurazione IDE/editor\n",
    "- [ ] Informa team del cambiamento\n",
    "- [ ] Testa sync con altri dispositivi\n",
    "- [ ] Aggiorna script di deployment\n",
    "\n",
    "---\n",
    "\n",
    "**🎯 Risultato**: Workflow Git semplificato con un solo branch `main` per massima efficienza!"
   ]
  }
 ],
 "metadata": {
  "kernelspec": {
   "display_name": "Python 3",
   "language": "python",
   "name": "python3"
  },
  "language_info": {
   "codemirror_mode": {
    "name": "ipython",
    "version": 3
   },
   "file_extension": ".py",
   "mimetype": "text/x-python",
   "name": "python",
   "nbconvert_exporter": "python",
   "pygments_lexer": "ipython3",
   "version": "3.13.2"
  }
 },
 "nbformat": 4,
 "nbformat_minor": 5
}
