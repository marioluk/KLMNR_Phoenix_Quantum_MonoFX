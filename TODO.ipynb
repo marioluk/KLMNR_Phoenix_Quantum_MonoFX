{
 "cells": [
  {
   "cell_type": "markdown",
   "id": "557e5283",
   "metadata": {},
   "source": [
    "i nuovi file json di configurazione sono incompleti e ci sono diversi parametri nuovi che non so se sono utilizzati nello script"
   ]
  },
  {
   "cell_type": "markdown",
   "id": "9f83cf7c",
   "metadata": {},
   "source": [
    "stiamo lavorando con timeframe m1, troppo veloce e troppo vicini sl e tp al prezzo d'ingresso"
   ]
  },
  {
   "cell_type": "markdown",
   "id": "02f760c9",
   "metadata": {},
   "source": [
    "prende sempre lot size max a 0.1, parametri di rischio troppo alti nel vecchio file config? controllare sui nuovi file config json"
   ]
  },
  {
   "cell_type": "markdown",
   "id": "3a342cd4",
   "metadata": {},
   "source": [
    "i nuovi file bachtest vengono salvati nella root principale e non nella cartella configs"
   ]
  },
  {
   "cell_type": "markdown",
   "id": "cb7d28b4",
   "metadata": {},
   "source": [
    "come si comporta il ts? ogni quanto si sposta?"
   ]
  },
  {
   "cell_type": "markdown",
   "id": "87688c71",
   "metadata": {},
   "source": [
    "come distribuisco il rischio sui vari simboli?"
   ]
  },
  {
   "cell_type": "markdown",
   "id": "e984a698",
   "metadata": {},
   "source": []
  }
 ],
 "metadata": {
  "language_info": {
   "name": "python"
  }
 },
 "nbformat": 4,
 "nbformat_minor": 5
}
